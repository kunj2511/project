{
  "nbformat": 4,
  "nbformat_minor": 0,
  "metadata": {
    "colab": {
      "name": "Harsh.ipynb",
      "provenance": [],
      "collapsed_sections": [],
      "include_colab_link": true
    },
    "kernelspec": {
      "name": "python3",
      "display_name": "Python 3"
    }
  },
  "cells": [
    {
      "cell_type": "markdown",
      "metadata": {
        "id": "view-in-github",
        "colab_type": "text"
      },
      "source": [
        "<a href=\"https://colab.research.google.com/github/kunj2511/project/blob/main/Harsh.ipynb\" target=\"_parent\"><img src=\"https://colab.research.google.com/assets/colab-badge.svg\" alt=\"Open In Colab\"/></a>"
      ]
    },
    {
      "cell_type": "code",
      "metadata": {
        "id": "4S06-mDqgxxR"
      },
      "source": [
        "!pip install mahotas\r\n",
        "import mahotas as mt\r\n",
        "import numpy as np\r\n",
        "import cv2\r\n",
        "from google.colab.patches import cv2_imshow\r\n",
        "import os\r\n",
        "import pandas as pd\r\n",
        "from matplotlib import pyplot as pyplot\r\n",
        "\r\n",
        "from google.colab import drive\r\n",
        "drive.mount('/content/drive/')\r\n",
        " \r\n",
        "ds_path = \"/content/drive/My Drive/Colab Notebooks/Tomato___healthy\"\r\n",
        "img_files = os.listdir(ds_path)\r\n",
        "for i in range(1,len(img_files)):\r\n",
        "    if str(i)+\".jpg\" in img_files:\r\n",
        "       print(i)\r\n",
        "    else:\r\n",
        "       print(False)"
      ],
      "execution_count": null,
      "outputs": []
    },
    {
      "cell_type": "code",
      "metadata": {
        "id": "_9AoWgEbiUic"
      },
      "source": [
        "def create_dataset():\r\n",
        "    names = ['area','perimeter','physiological_length','physiological_width','aspect_ratio','rectangularity','circularity', \\\r\n",
        "             'mean_r','mean_g','mean_b','stddev_r','stddev_g','stddev_b', \\\r\n",
        "             'contrast','correlation','inverse_difference_moments','entropy'\r\n",
        "            ]\r\n",
        "    df = pd.DataFrame([], columns=names)\r\n",
        "    for i in range(1,len(img_files)):\r\n",
        "      for file in img_files:\r\n",
        "        if str(i)+\".jpg\"==file:\r\n",
        "          imgpath = ds_path + \"//\" + file\r\n",
        "          main_img = cv2.imread(imgpath)\r\n",
        "          if main_img is not None:\r\n",
        "            \r\n",
        "            #Preprocessing\r\n",
        "            img = cv2.cvtColor(main_img, cv2.COLOR_BGR2RGB)\r\n",
        "            gs = cv2.cvtColor(img,cv2.COLOR_RGB2GRAY)\r\n",
        "            blur = cv2.GaussianBlur(gs, (25,25),0)\r\n",
        "            ret_otsu,im_bw_otsu = cv2.threshold(blur,0,255,cv2.THRESH_BINARY_INV+cv2.THRESH_OTSU)\r\n",
        "            kernel = np.ones((50,50),np.uint8)\r\n",
        "            closing = cv2.morphologyEx(im_bw_otsu, cv2.MORPH_CLOSE, kernel)\r\n",
        "            \r\n",
        "            #Shape features\r\n",
        "            contours,image  = cv2.findContours(closing,cv2.RETR_TREE,cv2.CHAIN_APPROX_SIMPLE)\r\n",
        "            contours=sorted(contours,key=cv2.contourArea,reverse=True)\r\n",
        "            cnt = contours[0]\r\n",
        "            M = cv2.moments(np.float32(cnt))\r\n",
        "            area = cv2.contourArea(contours[0])\r\n",
        "            perimeter = cv2.arcLength(cnt,True)\r\n",
        "            x,y,w,h = cv2.boundingRect(cnt)\r\n",
        "            aspect_ratio = float(w)/h\r\n",
        "            rectangularity = w*h/area\r\n",
        "            circularity = ((perimeter)**2)/area\r\n",
        "            \r\n",
        "            #Color features\r\n",
        "            red_channel = img[:,:,0]\r\n",
        "            green_channel = img[:,:,1]\r\n",
        "            blue_channel = img[:,:,2]\r\n",
        "            blue_channel[blue_channel == 255] = 0\r\n",
        "            green_channel[green_channel == 255] = 0\r\n",
        "            red_channel[red_channel == 255] = 0\r\n",
        "            \r\n",
        "            red_mean = np.mean(red_channel)\r\n",
        "            green_mean = np.mean(green_channel)\r\n",
        "            blue_mean = np.mean(blue_channel)\r\n",
        "          \r\n",
        "            red_std = np.std(red_channel)\r\n",
        "            green_std = np.std(green_channel)\r\n",
        "            blue_std = np.std(blue_channel)\r\n",
        "            \r\n",
        "            #Texture features\r\n",
        "            textures = mt.features.haralick(gs)\r\n",
        "            ht_mean = textures.mean(axis=0)\r\n",
        "            contrast = ht_mean[1]\r\n",
        "            correlation = ht_mean[2]\r\n",
        "            inverse_diff_moments = ht_mean[4]\r\n",
        "            entropy = ht_mean[8]\r\n",
        "            \r\n",
        "            vector = [area,perimeter,w,h,aspect_ratio,rectangularity,circularity,\\\r\n",
        "                      red_mean,green_mean,blue_mean,red_std,green_std,blue_std,\\\r\n",
        "                      contrast,correlation,inverse_diff_moments,entropy\r\n",
        "                    ]\r\n",
        "            \r\n",
        "            df_temp = pd.DataFrame([vector],columns=names)\r\n",
        "            df = df.append(df_temp)\r\n",
        "            print(file)\r\n",
        "          \r\n",
        "    return df\r\n",
        "dataset = create_dataset()\r\n",
        "dataset.to_csv(\"/content/drive/My Drive/Colab Notebooks/Flavia_features.csv\")\r\n"
      ],
      "execution_count": null,
      "outputs": []
    },
    {
      "cell_type": "code",
      "metadata": {
        "id": "MmflCBOCqkpT",
        "colab": {
          "base_uri": "https://localhost:8080/"
        },
        "outputId": "e4ae626c-2292-472b-a048-845a23c30f41"
      },
      "source": [
        "dataset.to_csv(\"/content/drive/My Drive/Colab Notebooks/Flavia_features.csv\")\r\n",
        "dataset = pd.read_csv(\"/content/drive/My Drive/Colab Notebooks/Flavia_features.csv\")\r\n",
        "dataset.head(5)\r\n",
        "type(dataset)\r\n",
        "maindir = r'/content/drive/My Drive/Colab Notebooks/'\r\n",
        "ds_path = maindir + \"/Tomato___healthy\"\r\n",
        "old_img_files = os.listdir(ds_path)\r\n",
        "print(len(old_img_files))\r\n",
        "\r\n",
        "img_files=[]\r\n",
        "for i in range(1,len(old_img_files)):\r\n",
        "    if str(i)+\".jpg\" in old_img_files:\r\n",
        "       img_files.append(str(i)+\".jpg\")\r\n",
        "    else:\r\n",
        "       print(False)\r\n",
        "print(img_files)\r\n",
        "print(len(img_files))"
      ],
      "execution_count": null,
      "outputs": [
        {
          "output_type": "stream",
          "text": [
            "1273\n",
            "['1.jpg', '2.jpg', '3.jpg', '4.jpg', '5.jpg', '6.jpg', '7.jpg', '8.jpg', '9.jpg', '10.jpg', '11.jpg', '12.jpg', '13.jpg', '14.jpg', '15.jpg', '16.jpg', '17.jpg', '18.jpg', '19.jpg', '20.jpg', '21.jpg', '22.jpg', '23.jpg', '24.jpg', '25.jpg', '26.jpg', '27.jpg', '28.jpg', '29.jpg', '30.jpg', '31.jpg', '32.jpg', '33.jpg', '34.jpg', '35.jpg', '36.jpg', '37.jpg', '38.jpg', '39.jpg', '40.jpg', '41.jpg', '42.jpg', '43.jpg', '44.jpg', '45.jpg', '46.jpg', '47.jpg', '48.jpg', '49.jpg', '50.jpg', '51.jpg', '52.jpg', '53.jpg', '54.jpg', '55.jpg', '56.jpg', '57.jpg', '58.jpg', '59.jpg', '60.jpg', '61.jpg', '62.jpg', '63.jpg', '64.jpg', '65.jpg', '66.jpg', '67.jpg', '68.jpg', '69.jpg', '70.jpg', '71.jpg', '72.jpg', '73.jpg', '74.jpg', '75.jpg', '76.jpg', '77.jpg', '78.jpg', '79.jpg', '80.jpg', '81.jpg', '82.jpg', '83.jpg', '84.jpg', '85.jpg', '86.jpg', '87.jpg', '88.jpg', '89.jpg', '90.jpg', '91.jpg', '92.jpg', '93.jpg', '94.jpg', '95.jpg', '96.jpg', '97.jpg', '98.jpg', '99.jpg', '100.jpg', '101.jpg', '102.jpg', '103.jpg', '104.jpg', '105.jpg', '106.jpg', '107.jpg', '108.jpg', '109.jpg', '110.jpg', '111.jpg', '112.jpg', '113.jpg', '114.jpg', '115.jpg', '116.jpg', '117.jpg', '118.jpg', '119.jpg', '120.jpg', '121.jpg', '122.jpg', '123.jpg', '124.jpg', '125.jpg', '126.jpg', '127.jpg', '128.jpg', '129.jpg', '130.jpg', '131.jpg', '132.jpg', '133.jpg', '134.jpg', '135.jpg', '136.jpg', '137.jpg', '138.jpg', '139.jpg', '140.jpg', '141.jpg', '142.jpg', '143.jpg', '144.jpg', '145.jpg', '146.jpg', '147.jpg', '148.jpg', '149.jpg', '150.jpg', '151.jpg', '152.jpg', '153.jpg', '154.jpg', '155.jpg', '156.jpg', '157.jpg', '158.jpg', '159.jpg', '160.jpg', '161.jpg', '162.jpg', '163.jpg', '164.jpg', '165.jpg', '166.jpg', '167.jpg', '168.jpg', '169.jpg', '170.jpg', '171.jpg', '172.jpg', '173.jpg', '174.jpg', '175.jpg', '176.jpg', '177.jpg', '178.jpg', '179.jpg', '180.jpg', '181.jpg', '182.jpg', '183.jpg', '184.jpg', '185.jpg', '186.jpg', '187.jpg', '188.jpg', '189.jpg', '190.jpg', '191.jpg', '192.jpg', '193.jpg', '194.jpg', '195.jpg', '196.jpg', '197.jpg', '198.jpg', '199.jpg', '200.jpg', '201.jpg', '202.jpg', '203.jpg', '204.jpg', '205.jpg', '206.jpg', '207.jpg', '208.jpg', '209.jpg', '210.jpg', '211.jpg', '212.jpg', '213.jpg', '214.jpg', '215.jpg', '216.jpg', '217.jpg', '218.jpg', '219.jpg', '220.jpg', '221.jpg', '222.jpg', '223.jpg', '224.jpg', '225.jpg', '226.jpg', '227.jpg', '228.jpg', '229.jpg', '230.jpg', '231.jpg', '232.jpg', '233.jpg', '234.jpg', '235.jpg', '236.jpg', '237.jpg', '238.jpg', '239.jpg', '240.jpg', '241.jpg', '242.jpg', '243.jpg', '244.jpg', '245.jpg', '246.jpg', '247.jpg', '248.jpg', '249.jpg', '250.jpg', '251.jpg', '252.jpg', '253.jpg', '254.jpg', '255.jpg', '256.jpg', '257.jpg', '258.jpg', '259.jpg', '260.jpg', '261.jpg', '262.jpg', '263.jpg', '264.jpg', '265.jpg', '266.jpg', '267.jpg', '268.jpg', '269.jpg', '270.jpg', '271.jpg', '272.jpg', '273.jpg', '274.jpg', '275.jpg', '276.jpg', '277.jpg', '278.jpg', '279.jpg', '280.jpg', '281.jpg', '282.jpg', '283.jpg', '284.jpg', '285.jpg', '286.jpg', '287.jpg', '288.jpg', '289.jpg', '290.jpg', '291.jpg', '292.jpg', '293.jpg', '294.jpg', '295.jpg', '296.jpg', '297.jpg', '298.jpg', '299.jpg', '300.jpg', '301.jpg', '302.jpg', '303.jpg', '304.jpg', '305.jpg', '306.jpg', '307.jpg', '308.jpg', '309.jpg', '310.jpg', '311.jpg', '312.jpg', '313.jpg', '314.jpg', '315.jpg', '316.jpg', '317.jpg', '318.jpg', '319.jpg', '320.jpg', '321.jpg', '322.jpg', '323.jpg', '324.jpg', '325.jpg', '326.jpg', '327.jpg', '328.jpg', '329.jpg', '330.jpg', '331.jpg', '332.jpg', '333.jpg', '334.jpg', '335.jpg', '336.jpg', '337.jpg', '338.jpg', '339.jpg', '340.jpg', '341.jpg', '342.jpg', '343.jpg', '344.jpg', '345.jpg', '346.jpg', '347.jpg', '348.jpg', '349.jpg', '350.jpg', '351.jpg', '352.jpg', '353.jpg', '354.jpg', '355.jpg', '356.jpg', '357.jpg', '358.jpg', '359.jpg', '360.jpg', '361.jpg', '362.jpg', '363.jpg', '364.jpg', '365.jpg', '366.jpg', '367.jpg', '368.jpg', '369.jpg', '370.jpg', '371.jpg', '372.jpg', '373.jpg', '374.jpg', '375.jpg', '376.jpg', '377.jpg', '378.jpg', '379.jpg', '380.jpg', '381.jpg', '382.jpg', '383.jpg', '384.jpg', '385.jpg', '386.jpg', '387.jpg', '388.jpg', '389.jpg', '390.jpg', '391.jpg', '392.jpg', '393.jpg', '394.jpg', '395.jpg', '396.jpg', '397.jpg', '398.jpg', '399.jpg', '400.jpg', '401.jpg', '402.jpg', '403.jpg', '404.jpg', '405.jpg', '406.jpg', '407.jpg', '408.jpg', '409.jpg', '410.jpg', '411.jpg', '412.jpg', '413.jpg', '414.jpg', '415.jpg', '416.jpg', '417.jpg', '418.jpg', '419.jpg', '420.jpg', '421.jpg', '422.jpg', '423.jpg', '424.jpg', '425.jpg', '426.jpg', '427.jpg', '428.jpg', '429.jpg', '430.jpg', '431.jpg', '432.jpg', '433.jpg', '434.jpg', '435.jpg', '436.jpg', '437.jpg', '438.jpg', '439.jpg', '440.jpg', '441.jpg', '442.jpg', '443.jpg', '444.jpg', '445.jpg', '446.jpg', '447.jpg', '448.jpg', '449.jpg', '450.jpg', '451.jpg', '452.jpg', '453.jpg', '454.jpg', '455.jpg', '456.jpg', '457.jpg', '458.jpg', '459.jpg', '460.jpg', '461.jpg', '462.jpg', '463.jpg', '464.jpg', '465.jpg', '466.jpg', '467.jpg', '468.jpg', '469.jpg', '470.jpg', '471.jpg', '472.jpg', '473.jpg', '474.jpg', '475.jpg', '476.jpg', '477.jpg', '478.jpg', '479.jpg', '480.jpg', '481.jpg', '482.jpg', '483.jpg', '484.jpg', '485.jpg', '486.jpg', '487.jpg', '488.jpg', '489.jpg', '490.jpg', '491.jpg', '492.jpg', '493.jpg', '494.jpg', '495.jpg', '496.jpg', '497.jpg', '498.jpg', '499.jpg', '500.jpg', '501.jpg', '502.jpg', '503.jpg', '504.jpg', '505.jpg', '506.jpg', '507.jpg', '508.jpg', '509.jpg', '510.jpg', '511.jpg', '512.jpg', '513.jpg', '514.jpg', '515.jpg', '516.jpg', '517.jpg', '518.jpg', '519.jpg', '520.jpg', '521.jpg', '522.jpg', '523.jpg', '524.jpg', '525.jpg', '526.jpg', '527.jpg', '528.jpg', '529.jpg', '530.jpg', '531.jpg', '532.jpg', '533.jpg', '534.jpg', '535.jpg', '536.jpg', '537.jpg', '538.jpg', '539.jpg', '540.jpg', '541.jpg', '542.jpg', '543.jpg', '544.jpg', '545.jpg', '546.jpg', '547.jpg', '548.jpg', '549.jpg', '550.jpg', '551.jpg', '552.jpg', '553.jpg', '554.jpg', '555.jpg', '556.jpg', '557.jpg', '558.jpg', '559.jpg', '560.jpg', '561.jpg', '562.jpg', '563.jpg', '564.jpg', '565.jpg', '566.jpg', '567.jpg', '568.jpg', '569.jpg', '570.jpg', '571.jpg', '572.jpg', '573.jpg', '574.jpg', '575.jpg', '576.jpg', '577.jpg', '578.jpg', '579.jpg', '580.jpg', '581.jpg', '582.jpg', '583.jpg', '584.jpg', '585.jpg', '586.jpg', '587.jpg', '588.jpg', '589.jpg', '590.jpg', '591.jpg', '592.jpg', '593.jpg', '594.jpg', '595.jpg', '596.jpg', '597.jpg', '598.jpg', '599.jpg', '600.jpg', '601.jpg', '602.jpg', '603.jpg', '604.jpg', '605.jpg', '606.jpg', '607.jpg', '608.jpg', '609.jpg', '610.jpg', '611.jpg', '612.jpg', '613.jpg', '614.jpg', '615.jpg', '616.jpg', '617.jpg', '618.jpg', '619.jpg', '620.jpg', '621.jpg', '622.jpg', '623.jpg', '624.jpg', '625.jpg', '626.jpg', '627.jpg', '628.jpg', '629.jpg', '630.jpg', '631.jpg', '632.jpg', '633.jpg', '634.jpg', '635.jpg', '636.jpg', '637.jpg', '638.jpg', '639.jpg', '640.jpg', '641.jpg', '642.jpg', '643.jpg', '644.jpg', '645.jpg', '646.jpg', '647.jpg', '648.jpg', '649.jpg', '650.jpg', '651.jpg', '652.jpg', '653.jpg', '654.jpg', '655.jpg', '656.jpg', '657.jpg', '658.jpg', '659.jpg', '660.jpg', '661.jpg', '662.jpg', '663.jpg', '664.jpg', '665.jpg', '666.jpg', '667.jpg', '668.jpg', '669.jpg', '670.jpg', '671.jpg', '672.jpg', '673.jpg', '674.jpg', '675.jpg', '676.jpg', '677.jpg', '678.jpg', '679.jpg', '680.jpg', '681.jpg', '682.jpg', '683.jpg', '684.jpg', '685.jpg', '686.jpg', '687.jpg', '688.jpg', '689.jpg', '690.jpg', '691.jpg', '692.jpg', '693.jpg', '694.jpg', '695.jpg', '696.jpg', '697.jpg', '698.jpg', '699.jpg', '700.jpg', '701.jpg', '702.jpg', '703.jpg', '704.jpg', '705.jpg', '706.jpg', '707.jpg', '708.jpg', '709.jpg', '710.jpg', '711.jpg', '712.jpg', '713.jpg', '714.jpg', '715.jpg', '716.jpg', '717.jpg', '718.jpg', '719.jpg', '720.jpg', '721.jpg', '722.jpg', '723.jpg', '724.jpg', '725.jpg', '726.jpg', '727.jpg', '728.jpg', '729.jpg', '730.jpg', '731.jpg', '732.jpg', '733.jpg', '734.jpg', '735.jpg', '736.jpg', '737.jpg', '738.jpg', '739.jpg', '740.jpg', '741.jpg', '742.jpg', '743.jpg', '744.jpg', '745.jpg', '746.jpg', '747.jpg', '748.jpg', '749.jpg', '750.jpg', '751.jpg', '752.jpg', '753.jpg', '754.jpg', '755.jpg', '756.jpg', '757.jpg', '758.jpg', '759.jpg', '760.jpg', '761.jpg', '762.jpg', '763.jpg', '764.jpg', '765.jpg', '766.jpg', '767.jpg', '768.jpg', '769.jpg', '770.jpg', '771.jpg', '772.jpg', '773.jpg', '774.jpg', '775.jpg', '776.jpg', '777.jpg', '778.jpg', '779.jpg', '780.jpg', '781.jpg', '782.jpg', '783.jpg', '784.jpg', '785.jpg', '786.jpg', '787.jpg', '788.jpg', '789.jpg', '790.jpg', '791.jpg', '792.jpg', '793.jpg', '794.jpg', '795.jpg', '796.jpg', '797.jpg', '798.jpg', '799.jpg', '800.jpg', '801.jpg', '802.jpg', '803.jpg', '804.jpg', '805.jpg', '806.jpg', '807.jpg', '808.jpg', '809.jpg', '810.jpg', '811.jpg', '812.jpg', '813.jpg', '814.jpg', '815.jpg', '816.jpg', '817.jpg', '818.jpg', '819.jpg', '820.jpg', '821.jpg', '822.jpg', '823.jpg', '824.jpg', '825.jpg', '826.jpg', '827.jpg', '828.jpg', '829.jpg', '830.jpg', '831.jpg', '832.jpg', '833.jpg', '834.jpg', '835.jpg', '836.jpg', '837.jpg', '838.jpg', '839.jpg', '840.jpg', '841.jpg', '842.jpg', '843.jpg', '844.jpg', '845.jpg', '846.jpg', '847.jpg', '848.jpg', '849.jpg', '850.jpg', '851.jpg', '852.jpg', '853.jpg', '854.jpg', '855.jpg', '856.jpg', '857.jpg', '858.jpg', '859.jpg', '860.jpg', '861.jpg', '862.jpg', '863.jpg', '864.jpg', '865.jpg', '866.jpg', '867.jpg', '868.jpg', '869.jpg', '870.jpg', '871.jpg', '872.jpg', '873.jpg', '874.jpg', '875.jpg', '876.jpg', '877.jpg', '878.jpg', '879.jpg', '880.jpg', '881.jpg', '882.jpg', '883.jpg', '884.jpg', '885.jpg', '886.jpg', '887.jpg', '888.jpg', '889.jpg', '890.jpg', '891.jpg', '892.jpg', '893.jpg', '894.jpg', '895.jpg', '896.jpg', '897.jpg', '898.jpg', '899.jpg', '900.jpg', '901.jpg', '902.jpg', '903.jpg', '904.jpg', '905.jpg', '906.jpg', '907.jpg', '908.jpg', '909.jpg', '910.jpg', '911.jpg', '912.jpg', '913.jpg', '914.jpg', '915.jpg', '916.jpg', '917.jpg', '918.jpg', '919.jpg', '920.jpg', '921.jpg', '922.jpg', '923.jpg', '924.jpg', '925.jpg', '926.jpg', '927.jpg', '928.jpg', '929.jpg', '930.jpg', '931.jpg', '932.jpg', '933.jpg', '934.jpg', '935.jpg', '936.jpg', '937.jpg', '938.jpg', '939.jpg', '940.jpg', '941.jpg', '942.jpg', '943.jpg', '944.jpg', '945.jpg', '946.jpg', '947.jpg', '948.jpg', '949.jpg', '950.jpg', '951.jpg', '952.jpg', '953.jpg', '954.jpg', '955.jpg', '956.jpg', '957.jpg', '958.jpg', '959.jpg', '960.jpg', '961.jpg', '962.jpg', '963.jpg', '964.jpg', '965.jpg', '966.jpg', '967.jpg', '968.jpg', '969.jpg', '970.jpg', '971.jpg', '972.jpg', '973.jpg', '974.jpg', '975.jpg', '976.jpg', '977.jpg', '978.jpg', '979.jpg', '980.jpg', '981.jpg', '982.jpg', '983.jpg', '984.jpg', '985.jpg', '986.jpg', '987.jpg', '988.jpg', '989.jpg', '990.jpg', '991.jpg', '992.jpg', '993.jpg', '994.jpg', '995.jpg', '996.jpg', '997.jpg', '998.jpg', '999.jpg', '1000.jpg', '1001.jpg', '1002.jpg', '1003.jpg', '1004.jpg', '1005.jpg', '1006.jpg', '1007.jpg', '1008.jpg', '1009.jpg', '1010.jpg', '1011.jpg', '1012.jpg', '1013.jpg', '1014.jpg', '1015.jpg', '1016.jpg', '1017.jpg', '1018.jpg', '1019.jpg', '1020.jpg', '1021.jpg', '1022.jpg', '1023.jpg', '1024.jpg', '1025.jpg', '1026.jpg', '1027.jpg', '1028.jpg', '1029.jpg', '1030.jpg', '1031.jpg', '1032.jpg', '1033.jpg', '1034.jpg', '1035.jpg', '1036.jpg', '1037.jpg', '1038.jpg', '1039.jpg', '1040.jpg', '1041.jpg', '1042.jpg', '1043.jpg', '1044.jpg', '1045.jpg', '1046.jpg', '1047.jpg', '1048.jpg', '1049.jpg', '1050.jpg', '1051.jpg', '1052.jpg', '1053.jpg', '1054.jpg', '1055.jpg', '1056.jpg', '1057.jpg', '1058.jpg', '1059.jpg', '1060.jpg', '1061.jpg', '1062.jpg', '1063.jpg', '1064.jpg', '1065.jpg', '1066.jpg', '1067.jpg', '1068.jpg', '1069.jpg', '1070.jpg', '1071.jpg', '1072.jpg', '1073.jpg', '1074.jpg', '1075.jpg', '1076.jpg', '1077.jpg', '1078.jpg', '1079.jpg', '1080.jpg', '1081.jpg', '1082.jpg', '1083.jpg', '1084.jpg', '1085.jpg', '1086.jpg', '1087.jpg', '1088.jpg', '1089.jpg', '1090.jpg', '1091.jpg', '1092.jpg', '1093.jpg', '1094.jpg', '1095.jpg', '1096.jpg', '1097.jpg', '1098.jpg', '1099.jpg', '1100.jpg', '1101.jpg', '1102.jpg', '1103.jpg', '1104.jpg', '1105.jpg', '1106.jpg', '1107.jpg', '1108.jpg', '1109.jpg', '1110.jpg', '1111.jpg', '1112.jpg', '1113.jpg', '1114.jpg', '1115.jpg', '1116.jpg', '1117.jpg', '1118.jpg', '1119.jpg', '1120.jpg', '1121.jpg', '1122.jpg', '1123.jpg', '1124.jpg', '1125.jpg', '1126.jpg', '1127.jpg', '1128.jpg', '1129.jpg', '1130.jpg', '1131.jpg', '1132.jpg', '1133.jpg', '1134.jpg', '1135.jpg', '1136.jpg', '1137.jpg', '1138.jpg', '1139.jpg', '1140.jpg', '1141.jpg', '1142.jpg', '1143.jpg', '1144.jpg', '1145.jpg', '1146.jpg', '1147.jpg', '1148.jpg', '1149.jpg', '1150.jpg', '1151.jpg', '1152.jpg', '1153.jpg', '1154.jpg', '1155.jpg', '1156.jpg', '1157.jpg', '1158.jpg', '1159.jpg', '1160.jpg', '1161.jpg', '1162.jpg', '1163.jpg', '1164.jpg', '1165.jpg', '1166.jpg', '1167.jpg', '1168.jpg', '1169.jpg', '1170.jpg', '1171.jpg', '1172.jpg', '1173.jpg', '1174.jpg', '1175.jpg', '1176.jpg', '1177.jpg', '1178.jpg', '1179.jpg', '1180.jpg', '1181.jpg', '1182.jpg', '1183.jpg', '1184.jpg', '1185.jpg', '1186.jpg', '1187.jpg', '1188.jpg', '1189.jpg', '1190.jpg', '1191.jpg', '1192.jpg', '1193.jpg', '1194.jpg', '1195.jpg', '1196.jpg', '1197.jpg', '1198.jpg', '1199.jpg', '1200.jpg', '1201.jpg', '1202.jpg', '1203.jpg', '1204.jpg', '1205.jpg', '1206.jpg', '1207.jpg', '1208.jpg', '1209.jpg', '1210.jpg', '1211.jpg', '1212.jpg', '1213.jpg', '1214.jpg', '1215.jpg', '1216.jpg', '1217.jpg', '1218.jpg', '1219.jpg', '1220.jpg', '1221.jpg', '1222.jpg', '1223.jpg', '1224.jpg', '1225.jpg', '1226.jpg', '1227.jpg', '1228.jpg', '1229.jpg', '1230.jpg', '1231.jpg', '1232.jpg', '1233.jpg', '1234.jpg', '1235.jpg', '1236.jpg', '1237.jpg', '1238.jpg', '1239.jpg', '1240.jpg', '1241.jpg', '1242.jpg', '1243.jpg', '1244.jpg', '1245.jpg', '1246.jpg', '1247.jpg', '1248.jpg', '1249.jpg', '1250.jpg', '1251.jpg', '1252.jpg', '1253.jpg', '1254.jpg', '1255.jpg', '1256.jpg', '1257.jpg', '1258.jpg', '1259.jpg', '1260.jpg', '1261.jpg', '1262.jpg', '1263.jpg', '1264.jpg', '1265.jpg', '1266.jpg', '1267.jpg', '1268.jpg', '1269.jpg', '1270.jpg', '1271.jpg', '1272.jpg']\n",
            "1272\n"
          ],
          "name": "stdout"
        }
      ]
    },
    {
      "cell_type": "code",
      "metadata": {
        "colab": {
          "base_uri": "https://localhost:8080/"
        },
        "id": "ui21EFe_tDaP",
        "outputId": "df69bd15-92d8-4fab-8d54-405fff5e2757"
      },
      "source": [
        "from sklearn.datasets import make_blobs\r\n",
        "X, y = make_blobs(n_samples=1272)\r\n",
        "print(len(X))\r\n",
        "print(len(y))"
      ],
      "execution_count": null,
      "outputs": [
        {
          "output_type": "stream",
          "text": [
            "1272\n",
            "1272\n"
          ],
          "name": "stdout"
        }
      ]
    },
    {
      "cell_type": "code",
      "metadata": {
        "colab": {
          "base_uri": "https://localhost:8080/"
        },
        "id": "b-p8W0d8tk9C",
        "outputId": "6064e7b9-e409-4fbc-a198-93c45bb1877d"
      },
      "source": [
        "from sklearn.model_selection import train_test_split\r\n",
        "X_train, X_test, y_train, y_test = train_test_split(X, y, test_size=0.33, random_state=1)\r\n",
        "# summarize first 5 rows\r\n",
        "print(X_train[:5, :])\r\n",
        "# split again, and we should see the same split\r\n",
        "X_train, X_test, y_train, y_test = train_test_split(X, y, test_size=0.33, random_state=1)\r\n",
        "# summarize first 5 rows\r\n",
        "print(X_train[:5, :])"
      ],
      "execution_count": null,
      "outputs": [
        {
          "output_type": "stream",
          "text": [
            "[[ -4.99492706  -9.87617807]\n",
            " [ -4.69885277 -10.92276227]\n",
            " [ -4.85355744  -9.13544298]\n",
            " [ -8.57951389   5.38446684]\n",
            " [  3.66585741  -6.13995588]]\n",
            "[[ -4.99492706  -9.87617807]\n",
            " [ -4.69885277 -10.92276227]\n",
            " [ -4.85355744  -9.13544298]\n",
            " [ -8.57951389   5.38446684]\n",
            " [  3.66585741  -6.13995588]]\n"
          ],
          "name": "stdout"
        }
      ]
    },
    {
      "cell_type": "code",
      "metadata": {
        "id": "R5qphxLFtyKr"
      },
      "source": [
        "from sklearn.preprocessing import StandardScaler\r\n",
        "sc_X = StandardScaler()\r\n",
        "X_train = sc_X.fit_transform(X_train)\r\n",
        "X_test = sc_X.transform(X_test)"
      ],
      "execution_count": null,
      "outputs": []
    },
    {
      "cell_type": "code",
      "metadata": {
        "colab": {
          "base_uri": "https://localhost:8080/"
        },
        "id": "qec0rWn5t4Wh",
        "outputId": "e7e95705-efec-4dba-e758-e89a30e1c00a"
      },
      "source": [
        "from sklearn import svm\r\n",
        "\r\n",
        "clf = svm.SVC()\r\n",
        "clf.fit(X_train,y_train)"
      ],
      "execution_count": null,
      "outputs": [
        {
          "output_type": "execute_result",
          "data": {
            "text/plain": [
              "SVC(C=1.0, break_ties=False, cache_size=200, class_weight=None, coef0=0.0,\n",
              "    decision_function_shape='ovr', degree=3, gamma='scale', kernel='rbf',\n",
              "    max_iter=-1, probability=False, random_state=None, shrinking=True,\n",
              "    tol=0.001, verbose=False)"
            ]
          },
          "metadata": {
            "tags": []
          },
          "execution_count": 9
        }
      ]
    },
    {
      "cell_type": "code",
      "metadata": {
        "colab": {
          "base_uri": "https://localhost:8080/"
        },
        "id": "2FTmhi1Et6hY",
        "outputId": "77b20b33-8f72-4fca-f8aa-261808d0fd06"
      },
      "source": [
        "y_pred = clf.predict(X_test)\r\n",
        "from sklearn import metrics\r\n",
        "metrics.accuracy_score(y_test, y_pred)"
      ],
      "execution_count": null,
      "outputs": [
        {
          "output_type": "execute_result",
          "data": {
            "text/plain": [
              "1.0"
            ]
          },
          "metadata": {
            "tags": []
          },
          "execution_count": 10
        }
      ]
    },
    {
      "cell_type": "code",
      "metadata": {
        "colab": {
          "base_uri": "https://localhost:8080/"
        },
        "id": "7Ucc75VtGEnF",
        "outputId": "96fc5560-b577-4170-f44c-fe3e44bf679f"
      },
      "source": [
        "print(y_pred)"
      ],
      "execution_count": null,
      "outputs": [
        {
          "output_type": "stream",
          "text": [
            "[2 2 2 0 1 0 1 0 2 2 2 2 0 2 1 1 0 0 2 2 0 0 0 1 0 1 2 1 2 0 2 1 2 2 2 0 0\n",
            " 1 2 1 2 0 2 1 2 0 0 0 0 0 1 0 2 0 0 0 2 1 0 0 1 1 1 2 0 1 2 0 1 0 2 0 2 1\n",
            " 1 0 0 2 2 1 2 0 0 1 1 1 2 2 0 1 0 2 2 0 1 1 2 1 2 0 0 1 2 0 2 0 1 2 1 2 1\n",
            " 0 1 1 1 2 1 2 2 1 2 0 2 0 1 0 0 2 0 2 0 2 0 2 2 1 0 2 1 0 0 1 2 1 1 1 0 0\n",
            " 1 0 1 2 2 0 0 1 2 0 1 0 0 2 0 2 0 2 1 0 0 0 2 1 1 2 2 2 2 0 0 0 1 1 0 0 0\n",
            " 2 2 0 1 1 1 0 2 2 0 1 2 0 2 0 2 2 2 1 0 2 1 2 0 1 2 2 0 2 2 1 0 1 2 0 0 2\n",
            " 0 1 2 2 1 0 1 2 1 0 1 0 0 0 2 0 1 1 1 1 2 1 2 2 1 2 1 0 0 2 2 2 1 1 2 0 1\n",
            " 1 1 1 2 0 2 1 0 0 1 2 0 2 1 2 0 1 2 2 1 2 1 0 0 2 0 1 0 1 0 2 0 2 2 2 0 1\n",
            " 2 2 0 1 0 2 2 2 1 1 0 0 2 0 2 2 1 0 1 1 2 0 2 0 1 1 1 0 0 2 1 2 1 1 1 2 0\n",
            " 0 2 1 0 0 0 1 1 1 0 2 2 2 2 2 2 0 2 2 1 1 0 1 0 2 2 2 0 1 0 2 2 0 0 0 1 1\n",
            " 1 2 0 2 0 1 0 0 1 0 1 0 1 1 2 0 0 2 0 2 2 0 0 2 1 1 1 1 2 2 1 0 1 2 0 0 1\n",
            " 0 0 2 0 1 2 2 0 1 1 2 1 2]\n"
          ],
          "name": "stdout"
        }
      ]
    },
    {
      "cell_type": "code",
      "metadata": {
        "colab": {
          "base_uri": "https://localhost:8080/"
        },
        "id": "Hfrm8jefuRVO",
        "outputId": "5264d9dd-240d-4d82-d757-7c2b5bde5e56"
      },
      "source": [
        "print(metrics.classification_report(y_test, y_pred))"
      ],
      "execution_count": null,
      "outputs": [
        {
          "output_type": "stream",
          "text": [
            "              precision    recall  f1-score   support\n",
            "\n",
            "           0       1.00      1.00      1.00       145\n",
            "           1       1.00      1.00      1.00       129\n",
            "           2       1.00      1.00      1.00       146\n",
            "\n",
            "    accuracy                           1.00       420\n",
            "   macro avg       1.00      1.00      1.00       420\n",
            "weighted avg       1.00      1.00      1.00       420\n",
            "\n"
          ],
          "name": "stdout"
        }
      ]
    },
    {
      "cell_type": "code",
      "metadata": {
        "colab": {
          "base_uri": "https://localhost:8080/"
        },
        "id": "pcIibMwpuVC-",
        "outputId": "b1ef6270-b4bb-4f82-dc37-3e6f63c0922b"
      },
      "source": [
        "from sklearn.model_selection import GridSearchCV\r\n",
        "parameters = [{'kernel': ['rbf'],\r\n",
        "               'gamma': [1e-4, 1e-3, 0.01, 0.1, 0.2, 0.5],\r\n",
        "               'C': [1, 10, 100, 1000]},\r\n",
        "              {'kernel': ['linear'], 'C': [1, 10, 100, 1000]}\r\n",
        "             ]\r\n",
        "\r\n",
        "svm_clf = GridSearchCV(svm.SVC(decision_function_shape='ovr'), parameters, cv=5)\r\n",
        "svm_clf.fit(X_train, y_train)"
      ],
      "execution_count": null,
      "outputs": [
        {
          "output_type": "execute_result",
          "data": {
            "text/plain": [
              "GridSearchCV(cv=5, error_score=nan,\n",
              "             estimator=SVC(C=1.0, break_ties=False, cache_size=200,\n",
              "                           class_weight=None, coef0=0.0,\n",
              "                           decision_function_shape='ovr', degree=3,\n",
              "                           gamma='scale', kernel='rbf', max_iter=-1,\n",
              "                           probability=False, random_state=None, shrinking=True,\n",
              "                           tol=0.001, verbose=False),\n",
              "             iid='deprecated', n_jobs=None,\n",
              "             param_grid=[{'C': [1, 10, 100, 1000],\n",
              "                          'gamma': [0.0001, 0.001, 0.01, 0.1, 0.2, 0.5],\n",
              "                          'kernel': ['rbf']},\n",
              "                         {'C': [1, 10, 100, 1000], 'kernel': ['linear']}],\n",
              "             pre_dispatch='2*n_jobs', refit=True, return_train_score=False,\n",
              "             scoring=None, verbose=0)"
            ]
          },
          "metadata": {
            "tags": []
          },
          "execution_count": 13
        }
      ]
    },
    {
      "cell_type": "code",
      "metadata": {
        "colab": {
          "base_uri": "https://localhost:8080/"
        },
        "id": "4U8VgyKLubNR",
        "outputId": "79a43827-f02d-486f-d40f-d8cd489fd572"
      },
      "source": [
        "svm_clf.best_params_"
      ],
      "execution_count": null,
      "outputs": [
        {
          "output_type": "execute_result",
          "data": {
            "text/plain": [
              "{'C': 1, 'gamma': 0.001, 'kernel': 'rbf'}"
            ]
          },
          "metadata": {
            "tags": []
          },
          "execution_count": 14
        }
      ]
    },
    {
      "cell_type": "code",
      "metadata": {
        "colab": {
          "base_uri": "https://localhost:8080/"
        },
        "id": "w_x6L4wguesY",
        "outputId": "1c862fa6-a9fc-4000-ae83-a0ecad5777c4"
      },
      "source": [
        "means = svm_clf.cv_results_['mean_test_score']\r\n",
        "stds = svm_clf.cv_results_['std_test_score']\r\n",
        "for mean, std, params in zip(means, stds, svm_clf.cv_results_['params']):\r\n",
        "    print(\"%0.3f (+/-%0.03f) for %r\" % (mean, std * 2, params))"
      ],
      "execution_count": null,
      "outputs": [
        {
          "output_type": "stream",
          "text": [
            "0.346 (+/-0.002) for {'C': 1, 'gamma': 0.0001, 'kernel': 'rbf'}\n",
            "1.000 (+/-0.000) for {'C': 1, 'gamma': 0.001, 'kernel': 'rbf'}\n",
            "1.000 (+/-0.000) for {'C': 1, 'gamma': 0.01, 'kernel': 'rbf'}\n",
            "1.000 (+/-0.000) for {'C': 1, 'gamma': 0.1, 'kernel': 'rbf'}\n",
            "1.000 (+/-0.000) for {'C': 1, 'gamma': 0.2, 'kernel': 'rbf'}\n",
            "1.000 (+/-0.000) for {'C': 1, 'gamma': 0.5, 'kernel': 'rbf'}\n",
            "1.000 (+/-0.000) for {'C': 10, 'gamma': 0.0001, 'kernel': 'rbf'}\n",
            "1.000 (+/-0.000) for {'C': 10, 'gamma': 0.001, 'kernel': 'rbf'}\n",
            "1.000 (+/-0.000) for {'C': 10, 'gamma': 0.01, 'kernel': 'rbf'}\n",
            "1.000 (+/-0.000) for {'C': 10, 'gamma': 0.1, 'kernel': 'rbf'}\n",
            "1.000 (+/-0.000) for {'C': 10, 'gamma': 0.2, 'kernel': 'rbf'}\n",
            "1.000 (+/-0.000) for {'C': 10, 'gamma': 0.5, 'kernel': 'rbf'}\n",
            "1.000 (+/-0.000) for {'C': 100, 'gamma': 0.0001, 'kernel': 'rbf'}\n",
            "1.000 (+/-0.000) for {'C': 100, 'gamma': 0.001, 'kernel': 'rbf'}\n",
            "1.000 (+/-0.000) for {'C': 100, 'gamma': 0.01, 'kernel': 'rbf'}\n",
            "1.000 (+/-0.000) for {'C': 100, 'gamma': 0.1, 'kernel': 'rbf'}\n",
            "1.000 (+/-0.000) for {'C': 100, 'gamma': 0.2, 'kernel': 'rbf'}\n",
            "1.000 (+/-0.000) for {'C': 100, 'gamma': 0.5, 'kernel': 'rbf'}\n",
            "1.000 (+/-0.000) for {'C': 1000, 'gamma': 0.0001, 'kernel': 'rbf'}\n",
            "1.000 (+/-0.000) for {'C': 1000, 'gamma': 0.001, 'kernel': 'rbf'}\n",
            "1.000 (+/-0.000) for {'C': 1000, 'gamma': 0.01, 'kernel': 'rbf'}\n",
            "1.000 (+/-0.000) for {'C': 1000, 'gamma': 0.1, 'kernel': 'rbf'}\n",
            "1.000 (+/-0.000) for {'C': 1000, 'gamma': 0.2, 'kernel': 'rbf'}\n",
            "1.000 (+/-0.000) for {'C': 1000, 'gamma': 0.5, 'kernel': 'rbf'}\n",
            "1.000 (+/-0.000) for {'C': 1, 'kernel': 'linear'}\n",
            "1.000 (+/-0.000) for {'C': 10, 'kernel': 'linear'}\n",
            "1.000 (+/-0.000) for {'C': 100, 'kernel': 'linear'}\n",
            "1.000 (+/-0.000) for {'C': 1000, 'kernel': 'linear'}\n"
          ],
          "name": "stdout"
        }
      ]
    },
    {
      "cell_type": "code",
      "metadata": {
        "colab": {
          "base_uri": "https://localhost:8080/"
        },
        "id": "4uilbw9_ul-2",
        "outputId": "cc6a89f9-d3c1-4842-fa6c-e901a80ad5ca"
      },
      "source": [
        "y_pred_svm = svm_clf.predict(X_test)\r\n",
        "print(y_pred_svm)\r\n",
        "metrics.accuracy_score(y_test, y_pred_svm)"
      ],
      "execution_count": null,
      "outputs": [
        {
          "output_type": "stream",
          "text": [
            "[2 2 2 0 1 0 1 0 2 2 2 2 0 2 1 1 0 0 2 2 0 0 0 1 0 1 2 1 2 0 2 1 2 2 2 0 0\n",
            " 1 2 1 2 0 2 1 2 0 0 0 0 0 1 0 2 0 0 0 2 1 0 0 1 1 1 2 0 1 2 0 1 0 2 0 2 1\n",
            " 1 0 0 2 2 1 2 0 0 1 1 1 2 2 0 1 0 2 2 0 1 1 2 1 2 0 0 1 2 0 2 0 1 2 1 2 1\n",
            " 0 1 1 1 2 1 2 2 1 2 0 2 0 1 0 0 2 0 2 0 2 0 2 2 1 0 2 1 0 0 1 2 1 1 1 0 0\n",
            " 1 0 1 2 2 0 0 1 2 0 1 0 0 2 0 2 0 2 1 0 0 0 2 1 1 2 2 2 2 0 0 0 1 1 0 0 0\n",
            " 2 2 0 1 1 1 0 2 2 0 1 2 0 2 0 2 2 2 1 0 2 1 2 0 1 2 2 0 2 2 1 0 1 2 0 0 2\n",
            " 0 1 2 2 1 0 1 2 1 0 1 0 0 0 2 0 1 1 1 1 2 1 2 2 1 2 1 0 0 2 2 2 1 1 2 0 1\n",
            " 1 1 1 2 0 2 1 0 0 1 2 0 2 1 2 0 1 2 2 1 2 1 0 0 2 0 1 0 1 0 2 0 2 2 2 0 1\n",
            " 2 2 0 1 0 2 2 2 1 1 0 0 2 0 2 2 1 0 1 1 2 0 2 0 1 1 1 0 0 2 1 2 1 1 1 2 0\n",
            " 0 2 1 0 0 0 1 1 1 0 2 2 2 2 2 2 0 2 2 1 1 0 1 0 2 2 2 0 1 0 2 2 0 0 0 1 1\n",
            " 1 2 0 2 0 1 0 0 1 0 1 0 1 1 2 0 0 2 0 2 2 0 0 2 1 1 1 1 2 2 1 0 1 2 0 0 1\n",
            " 0 0 2 0 1 2 2 0 1 1 2 1 2]\n"
          ],
          "name": "stdout"
        },
        {
          "output_type": "execute_result",
          "data": {
            "text/plain": [
              "1.0"
            ]
          },
          "metadata": {
            "tags": []
          },
          "execution_count": 16
        }
      ]
    },
    {
      "cell_type": "code",
      "metadata": {
        "colab": {
          "base_uri": "https://localhost:8080/"
        },
        "id": "Zec95fTwu0pl",
        "outputId": "5bb2fdff-524f-439d-a479-0f48c19c3d6a"
      },
      "source": [
        "print(metrics.classification_report(y_test, y_pred_svm))"
      ],
      "execution_count": null,
      "outputs": [
        {
          "output_type": "stream",
          "text": [
            "              precision    recall  f1-score   support\n",
            "\n",
            "           0       1.00      1.00      1.00       145\n",
            "           1       1.00      1.00      1.00       129\n",
            "           2       1.00      1.00      1.00       146\n",
            "\n",
            "    accuracy                           1.00       420\n",
            "   macro avg       1.00      1.00      1.00       420\n",
            "weighted avg       1.00      1.00      1.00       420\n",
            "\n"
          ],
          "name": "stdout"
        }
      ]
    },
    {
      "cell_type": "code",
      "metadata": {
        "colab": {
          "base_uri": "https://localhost:8080/"
        },
        "id": "nX5_m7nQu4HT",
        "outputId": "7a455313-0270-4e18-fbec-f4237a10e2e7"
      },
      "source": [
        "from sklearn.decomposition import PCA\r\n",
        "\r\n",
        "pca = PCA()\r\n",
        "pca.fit(X)"
      ],
      "execution_count": null,
      "outputs": [
        {
          "output_type": "execute_result",
          "data": {
            "text/plain": [
              "PCA(copy=True, iterated_power='auto', n_components=None, random_state=None,\n",
              "    svd_solver='auto', tol=0.0, whiten=False)"
            ]
          },
          "metadata": {
            "tags": []
          },
          "execution_count": 18
        }
      ]
    },
    {
      "cell_type": "code",
      "metadata": {
        "colab": {
          "base_uri": "https://localhost:8080/"
        },
        "id": "4xtFB-xBu-Cb",
        "outputId": "aec058e3-b262-4588-a8fc-c57e57641870"
      },
      "source": [
        "var= pca.explained_variance_ratio_\r\n",
        "var"
      ],
      "execution_count": null,
      "outputs": [
        {
          "output_type": "execute_result",
          "data": {
            "text/plain": [
              "array([0.78341959, 0.21658041])"
            ]
          },
          "metadata": {
            "tags": []
          },
          "execution_count": 19
        }
      ]
    },
    {
      "cell_type": "code",
      "metadata": {
        "colab": {
          "base_uri": "https://localhost:8080/",
          "height": 282
        },
        "id": "L6eX1rp7vA43",
        "outputId": "42b58d63-c060-427f-d126-fba9e66030e7"
      },
      "source": [
        "import matplotlib.pyplot as plt\r\n",
        "var1=np.cumsum(np.round(pca.explained_variance_ratio_, decimals=4)*100)\r\n",
        "plt.plot(var1)"
      ],
      "execution_count": null,
      "outputs": [
        {
          "output_type": "execute_result",
          "data": {
            "text/plain": [
              "[<matplotlib.lines.Line2D at 0x7f970f61de90>]"
            ]
          },
          "metadata": {
            "tags": []
          },
          "execution_count": 20
        },
        {
          "output_type": "display_data",
          "data": {
            "image/png": "[encoded data removed]",
            "text/plain": [
              "<Figure size 432x288 with 1 Axes>"
            ]
          },
          "metadata": {
            "tags": [],
            "needs_background": "light"
          }
        }
      ]
    },
    {
      "cell_type": "code",
      "metadata": {
        "id": "LpNyD30WyQO0"
      },
      "source": [
        "'''import cv2\r\n",
        "import numpy as np\r\n",
        "\r\n",
        "img1 = cv2.imread('/content/drive/My Drive/Colab Notebooks/Tomato___healthy/1.jpg',0)\r\n",
        "img2 = cv2.imread('/content/drive/My Drive/Colab Notebooks/Tomato___healthy/2.jpg',0)\r\n",
        "\r\n",
        "ret, thresh = cv2.threshold(img1, 127, 255,0)\r\n",
        "ret, thresh2 = cv2.threshold(img2, 127, 255,0)\r\n",
        "contours,hierarchy = cv2.findContours(thresh,2,1)\r\n",
        "cnt1 = contours[0]\r\n",
        "contours,hierarchy = cv2.findContours(thresh2,2,1)\r\n",
        "cnt2 = contours[0]\r\n",
        "\r\n",
        "ret = cv2.matchShapes(cnt1,cnt2,1,0.0)\r\n",
        "print (ret)'''"
      ],
      "execution_count": null,
      "outputs": []
    },
    {
      "cell_type": "code",
      "metadata": {
        "id": "0k2jLmz2vI2o"
      },
      "source": [
        "\"\"\"\"\"import os\r\n",
        "import cv2\r\n",
        "def bg_sub(filename):\r\n",
        "    test_img_path = \"/content/drive/My Drive/Colab Notebooks/\" + filename\r\n",
        "    print(os.listdir(\"/content/drive/My Drive/Colab Notebooks/\"))\r\n",
        "    main_img = cv2.imread(test_img_path)\r\n",
        "    if main_img is not None:\r\n",
        "      img = cv2.cvtColor(main_img, cv2.COLOR_BGR2RGB)\r\n",
        "      #img = cv2.cvtColor(main_img, cv2.COLOR_BGR2RGB)\r\n",
        "      resized_image = cv2.resize(img, (1600, 1200))\r\n",
        "      size_y,size_x,_ = img.shape\r\n",
        "      gs = cv2.cvtColor(resized_image,cv2.COLOR_RGB2GRAY)\r\n",
        "      blur = cv2.GaussianBlur(gs, (55,55),0)\r\n",
        "      ret_otsu,im_bw_otsu = cv2.threshold(blur,0,255,cv2.THRESH_BINARY_INV+cv2.THRESH_OTSU)\r\n",
        "      kernel = np.ones((50,50),np.uint8)\r\n",
        "      closing = cv2.morphologyEx(im_bw_otsu, cv2.MORPH_CLOSE, kernel)\r\n",
        "      \r\n",
        "      contours,ret_image= cv2.findContours(closing,cv2.RETR_TREE,cv2.CHAIN_APPROX_SIMPLE)\r\n",
        "      \r\n",
        "      contains = []\r\n",
        "      y_ri,x_ri, _ = resized_image.shape\r\n",
        "      for cc in contours:\r\n",
        "          yn = cv2.pointPolygonTest(cc,(x_ri//2,y_ri//2),False)\r\n",
        "          contains.append(yn)\r\n",
        "      val = [contains.index(temp) for temp in contains if temp>0]\r\n",
        "      index = val[0]\r\n",
        "      \r\n",
        "      black_img = np.empty([1200,1600,3],dtype=np.uint8)\r\n",
        "      black_img.fill(0)\r\n",
        "      \r\n",
        "      cnt = contours[index]\r\n",
        "      mask = cv2.drawContours(black_img, [cnt] , 0, (255,255,255), -1)\r\n",
        "      \r\n",
        "      maskedImg = cv2.bitwise_and(resized_image, mask)\r\n",
        "      white_pix = [255,255,255]\r\n",
        "      black_pix = [0,0,0]\r\n",
        "      \r\n",
        "      final_img = maskedImg\r\n",
        "      h,w,channels = final_img.shape\r\n",
        "      for x in range(0,w):\r\n",
        "          for y in range(0,h):\r\n",
        "              channels_xy = final_img[y,x]\r\n",
        "              if all(channels_xy == black_pix):\r\n",
        "                  final_img[y,x] = white_pix\r\n",
        "    \r\n",
        "    return final_img\r\n",
        "  \r\n",
        "filename = 'F1.jpg' \r\n",
        "bg_rem_img = bg_sub(filename)\"\"\"\"\""
      ],
      "execution_count": null,
      "outputs": []
    },
    {
      "cell_type": "code",
      "metadata": {
        "colab": {
          "base_uri": "https://localhost:8080/",
          "height": 100
        },
        "id": "WwW6lTcf060z",
        "outputId": "a62d9c38-12cd-411c-a5af-162af6f0d96d"
      },
      "source": [
        "def feature_extract(Mimg):\r\n",
        "    names = ['area','perimeter','pysiological_length','pysiological_width','aspect_ratio','rectangularity','circularity', \\\r\n",
        "             'mean_r','mean_g','mean_b','stddev_r','stddev_g','stddev_b', \\\r\n",
        "             'contrast','correlation','inverse_difference_moments','entropy'\r\n",
        "            ]\r\n",
        "    df = pd.DataFrame([], columns=names)\r\n",
        "    img = cv2.imread(Mimg)\r\n",
        "    #Preprocessing\r\n",
        "    gs = cv2.cvtColor(img,cv2.COLOR_RGB2GRAY)\r\n",
        "    blur = cv2.GaussianBlur(gs, (25,25),0)\r\n",
        "    ret_otsu,im_bw_otsu = cv2.threshold(blur,0,255,cv2.THRESH_BINARY_INV+cv2.THRESH_OTSU)\r\n",
        "    kernel = np.ones((50,50),np.uint8)\r\n",
        "    closing = cv2.morphologyEx(im_bw_otsu, cv2.MORPH_CLOSE, kernel)\r\n",
        "\r\n",
        "    #Shape features\r\n",
        "    contours,image  = cv2.findContours(closing,cv2.RETR_TREE,cv2.CHAIN_APPROX_SIMPLE)\r\n",
        "    contours=sorted(contours,key=cv2.contourArea,reverse=True)\r\n",
        "    cnt = contours[0]\r\n",
        "    \r\n",
        "    M = cv2.moments(cnt)\r\n",
        "    area = cv2.contourArea(cnt)\r\n",
        "    perimeter = cv2.arcLength(cnt,True)\r\n",
        "    x,y,w,h = cv2.boundingRect(cnt)\r\n",
        "    aspect_ratio = float(w)/h\r\n",
        "    rectangularity = w*h/area\r\n",
        "    circularity = ((perimeter)**2)/area\r\n",
        "\r\n",
        "    #Color features\r\n",
        "    red_channel = img[:,:,0]\r\n",
        "    green_channel = img[:,:,1]\r\n",
        "    blue_channel = img[:,:,2]\r\n",
        "    blue_channel[blue_channel == 255] = 0\r\n",
        "    green_channel[green_channel == 255] = 0\r\n",
        "    red_channel[red_channel == 255] = 0\r\n",
        "\r\n",
        "    red_mean = np.mean(red_channel)\r\n",
        "    green_mean = np.mean(green_channel)\r\n",
        "    blue_mean = np.mean(blue_channel)\r\n",
        "\r\n",
        "    red_std = np.std(red_channel)\r\n",
        "    green_std = np.std(green_channel)\r\n",
        "    blue_std = np.std(blue_channel)\r\n",
        "\r\n",
        "    #Texture features\r\n",
        "    textures = mt.features.haralick(gs)\r\n",
        "    ht_mean = textures.mean(axis=0)\r\n",
        "    contrast = ht_mean[1]\r\n",
        "    correlation = ht_mean[2]\r\n",
        "    inverse_diff_moments = ht_mean[4]\r\n",
        "    entropy = ht_mean[8]\r\n",
        "\r\n",
        "    vector = [area,perimeter,w,h,aspect_ratio,rectangularity,circularity,\\\r\n",
        "              red_mean,green_mean,blue_mean,red_std,green_std,blue_std,\\\r\n",
        "              contrast,correlation,inverse_diff_moments,entropy\r\n",
        "             ]\r\n",
        "\r\n",
        "    df_temp = pd.DataFrame([vector],columns=names)\r\n",
        "    df = df.append(df_temp)\r\n",
        "    \r\n",
        "    return df\r\n",
        "\r\n",
        "features_of_img = feature_extract(\"/content/drive/My Drive/Colab Notebooks/2012.jpg\")\r\n",
        "features_of_img"
      ],
      "execution_count": null,
      "outputs": [
        {
          "output_type": "execute_result",
          "data": {
            "text/html": [
              "<div>\n",
              "<style scoped>\n",
              "    .dataframe tbody tr th:only-of-type {\n",
              "        vertical-align: middle;\n",
              "    }\n",
              "\n",
              "    .dataframe tbody tr th {\n",
              "        vertical-align: top;\n",
              "    }\n",
              "\n",
              "    .dataframe thead th {\n",
              "        text-align: right;\n",
              "    }\n",
              "</style>\n",
              "<table border=\"1\" class=\"dataframe\">\n",
              "  <thead>\n",
              "    <tr style=\"text-align: right;\">\n",
              "      <th></th>\n",
              "      <th>area</th>\n",
              "      <th>perimeter</th>\n",
              "      <th>pysiological_length</th>\n",
              "      <th>pysiological_width</th>\n",
              "      <th>aspect_ratio</th>\n",
              "      <th>rectangularity</th>\n",
              "      <th>circularity</th>\n",
              "      <th>mean_r</th>\n",
              "      <th>mean_g</th>\n",
              "      <th>mean_b</th>\n",
              "      <th>stddev_r</th>\n",
              "      <th>stddev_g</th>\n",
              "      <th>stddev_b</th>\n",
              "      <th>contrast</th>\n",
              "      <th>correlation</th>\n",
              "      <th>inverse_difference_moments</th>\n",
              "      <th>entropy</th>\n",
              "    </tr>\n",
              "  </thead>\n",
              "  <tbody>\n",
              "    <tr>\n",
              "      <th>0</th>\n",
              "      <td>99208.0</td>\n",
              "      <td>3279.342269</td>\n",
              "      <td>540</td>\n",
              "      <td>611</td>\n",
              "      <td>0.883797</td>\n",
              "      <td>3.32574</td>\n",
              "      <td>108.39938</td>\n",
              "      <td>175.420826</td>\n",
              "      <td>190.223094</td>\n",
              "      <td>205.129905</td>\n",
              "      <td>30.982869</td>\n",
              "      <td>50.419212</td>\n",
              "      <td>38.137563</td>\n",
              "      <td>27.287574</td>\n",
              "      <td>0.99239</td>\n",
              "      <td>0.581521</td>\n",
              "      <td>10.090243</td>\n",
              "    </tr>\n",
              "  </tbody>\n",
              "</table>\n",
              "</div>"
            ],
            "text/plain": [
              "      area    perimeter  ... inverse_difference_moments    entropy\n",
              "0  99208.0  3279.342269  ...                   0.581521  10.090243\n",
              "\n",
              "[1 rows x 17 columns]"
            ]
          },
          "metadata": {
            "tags": []
          },
          "execution_count": 22
        }
      ]
    },
    {
      "cell_type": "code",
      "metadata": {
        "colab": {
          "base_uri": "https://localhost:8080/"
        },
        "id": "8H00dsPp-UDg",
        "outputId": "4c9c63c7-875f-46b8-c9ae-36866e8e5ef6"
      },
      "source": [
        "from sklearn.datasets import make_blobs\r\n",
        "X, y = make_blobs(n_samples=1)\r\n",
        "print(X,y)"
      ],
      "execution_count": null,
      "outputs": [
        {
          "output_type": "stream",
          "text": [
            "[[-7.0103078  -3.15929709]] [0]\n"
          ],
          "name": "stdout"
        }
      ]
    },
    {
      "cell_type": "code",
      "metadata": {
        "colab": {
          "base_uri": "https://localhost:8080/",
          "height": 100
        },
        "id": "CO9gwXXfyP0-",
        "outputId": "e0d7dfe8-cc57-4093-8503-d0707cca17e6"
      },
      "source": [
        "features_of_img"
      ],
      "execution_count": null,
      "outputs": [
        {
          "output_type": "execute_result",
          "data": {
            "text/html": [
              "<div>\n",
              "<style scoped>\n",
              "    .dataframe tbody tr th:only-of-type {\n",
              "        vertical-align: middle;\n",
              "    }\n",
              "\n",
              "    .dataframe tbody tr th {\n",
              "        vertical-align: top;\n",
              "    }\n",
              "\n",
              "    .dataframe thead th {\n",
              "        text-align: right;\n",
              "    }\n",
              "</style>\n",
              "<table border=\"1\" class=\"dataframe\">\n",
              "  <thead>\n",
              "    <tr style=\"text-align: right;\">\n",
              "      <th></th>\n",
              "      <th>area</th>\n",
              "      <th>perimeter</th>\n",
              "      <th>pysiological_length</th>\n",
              "      <th>pysiological_width</th>\n",
              "      <th>aspect_ratio</th>\n",
              "      <th>rectangularity</th>\n",
              "      <th>circularity</th>\n",
              "      <th>mean_r</th>\n",
              "      <th>mean_g</th>\n",
              "      <th>mean_b</th>\n",
              "      <th>stddev_r</th>\n",
              "      <th>stddev_g</th>\n",
              "      <th>stddev_b</th>\n",
              "      <th>contrast</th>\n",
              "      <th>correlation</th>\n",
              "      <th>inverse_difference_moments</th>\n",
              "      <th>entropy</th>\n",
              "    </tr>\n",
              "  </thead>\n",
              "  <tbody>\n",
              "    <tr>\n",
              "      <th>0</th>\n",
              "      <td>99208.0</td>\n",
              "      <td>3279.342269</td>\n",
              "      <td>540</td>\n",
              "      <td>611</td>\n",
              "      <td>0.883797</td>\n",
              "      <td>3.32574</td>\n",
              "      <td>108.39938</td>\n",
              "      <td>175.420826</td>\n",
              "      <td>190.223094</td>\n",
              "      <td>205.129905</td>\n",
              "      <td>30.982869</td>\n",
              "      <td>50.419212</td>\n",
              "      <td>38.137563</td>\n",
              "      <td>27.287574</td>\n",
              "      <td>0.99239</td>\n",
              "      <td>0.581521</td>\n",
              "      <td>10.090243</td>\n",
              "    </tr>\n",
              "  </tbody>\n",
              "</table>\n",
              "</div>"
            ],
            "text/plain": [
              "      area    perimeter  ... inverse_difference_moments    entropy\n",
              "0  99208.0  3279.342269  ...                   0.581521  10.090243\n",
              "\n",
              "[1 rows x 17 columns]"
            ]
          },
          "metadata": {
            "tags": []
          },
          "execution_count": 28
        }
      ]
    },
    {
      "cell_type": "code",
      "metadata": {
        "colab": {
          "base_uri": "https://localhost:8080/",
          "height": 369
        },
        "id": "WgzjIbpb92ub",
        "outputId": "cf39f9eb-d990-4012-c74a-f2ffdc495e17"
      },
      "source": [
        "scaled_features = sc_X.transform(features_of_img)\r\n",
        "print(scaled_features)\r\n",
        "# y_pred_mobile = svm_clf.predict(features_of_img)\r\n",
        "y_pred_mobile = clf.predict(scaled_features)\r\n",
        "y_pred_mobile[0]"
      ],
      "execution_count": null,
      "outputs": [
        {
          "output_type": "error",
          "ename": "ValueError",
          "evalue": "ignored",
          "traceback": [
            "\u001b[0;31m---------------------------------------------------------------------------\u001b[0m",
            "\u001b[0;31mValueError\u001b[0m                                Traceback (most recent call last)",
            "\u001b[0;32m<ipython-input-40-5a31e3d3b9bb>\u001b[0m in \u001b[0;36m<module>\u001b[0;34m()\u001b[0m\n\u001b[0;32m----> 1\u001b[0;31m \u001b[0mscaled_features\u001b[0m \u001b[0;34m=\u001b[0m \u001b[0msc_X\u001b[0m\u001b[0;34m.\u001b[0m\u001b[0mtransform\u001b[0m\u001b[0;34m(\u001b[0m\u001b[0mfeatures_of_img\u001b[0m\u001b[0;34m)\u001b[0m\u001b[0;34m\u001b[0m\u001b[0;34m\u001b[0m\u001b[0m\n\u001b[0m\u001b[1;32m      2\u001b[0m \u001b[0mprint\u001b[0m\u001b[0;34m(\u001b[0m\u001b[0mscaled_features\u001b[0m\u001b[0;34m)\u001b[0m\u001b[0;34m\u001b[0m\u001b[0;34m\u001b[0m\u001b[0m\n\u001b[1;32m      3\u001b[0m \u001b[0;31m# y_pred_mobile = svm_clf.predict(features_of_img)\u001b[0m\u001b[0;34m\u001b[0m\u001b[0;34m\u001b[0m\u001b[0;34m\u001b[0m\u001b[0m\n\u001b[1;32m      4\u001b[0m \u001b[0my_pred_mobile\u001b[0m \u001b[0;34m=\u001b[0m \u001b[0mclf\u001b[0m\u001b[0;34m.\u001b[0m\u001b[0mpredict\u001b[0m\u001b[0;34m(\u001b[0m\u001b[0mscaled_features\u001b[0m\u001b[0;34m)\u001b[0m\u001b[0;34m\u001b[0m\u001b[0;34m\u001b[0m\u001b[0m\n\u001b[1;32m      5\u001b[0m \u001b[0my_pred_mobile\u001b[0m\u001b[0;34m[\u001b[0m\u001b[0;36m0\u001b[0m\u001b[0;34m]\u001b[0m\u001b[0;34m\u001b[0m\u001b[0;34m\u001b[0m\u001b[0m\n",
            "\u001b[0;32m/usr/local/lib/python3.7/dist-packages/sklearn/preprocessing/_data.py\u001b[0m in \u001b[0;36mtransform\u001b[0;34m(self, X, copy)\u001b[0m\n\u001b[1;32m    804\u001b[0m             \u001b[0;32mif\u001b[0m \u001b[0mself\u001b[0m\u001b[0;34m.\u001b[0m\u001b[0mwith_mean\u001b[0m\u001b[0;34m:\u001b[0m\u001b[0;34m\u001b[0m\u001b[0;34m\u001b[0m\u001b[0m\n\u001b[1;32m    805\u001b[0m                 \u001b[0mX\u001b[0m \u001b[0;34m+=\u001b[0m \u001b[0mself\u001b[0m\u001b[0;34m.\u001b[0m\u001b[0mmean_\u001b[0m\u001b[0;34m\u001b[0m\u001b[0;34m\u001b[0m\u001b[0m\n\u001b[0;32m--> 806\u001b[0;31m             \u001b[0;32mif\u001b[0m \u001b[0mself\u001b[0m\u001b[0;34m.\u001b[0m\u001b[0mwith_std\u001b[0m\u001b[0;34m:\u001b[0m\u001b[0;34m\u001b[0m\u001b[0;34m\u001b[0m\u001b[0m\n\u001b[0m\u001b[1;32m    807\u001b[0m                 \u001b[0mX\u001b[0m \u001b[0;34m/=\u001b[0m \u001b[0mself\u001b[0m\u001b[0;34m.\u001b[0m\u001b[0mscale_\u001b[0m\u001b[0;34m\u001b[0m\u001b[0;34m\u001b[0m\u001b[0m\n\u001b[1;32m    808\u001b[0m         \u001b[0;32mreturn\u001b[0m \u001b[0mX\u001b[0m\u001b[0;34m\u001b[0m\u001b[0;34m\u001b[0m\u001b[0m\n",
            "\u001b[0;31mValueError\u001b[0m: operands could not be broadcast together with shapes (1,17) (2,) (1,17) "
          ]
        }
      ]
    },
    {
      "cell_type": "code",
      "metadata": {
        "colab": {
          "base_uri": "https://localhost:8080/",
          "height": 52
        },
        "id": "_-LkHbH2_lUf",
        "outputId": "5d28a558-a45f-4f17-cbaf-b06c38e2ff87"
      },
      "source": [
        "\r\n",
        "common_names = ['pubescent bamboo','Chinese horse chestnut','Anhui Barberry', \\\r\n",
        "                'Chinese redbud','true indigo','Japanese maple','Nanmu',' castor aralia', \\\r\n",
        "                'Chinese cinnamon','goldenrain tree','Big-fruited Holly','Japanese cheesewood', \\\r\n",
        "                'wintersweet','camphortree','Japan Arrowwood','sweet osmanthus','deodar','ginkgo, maidenhair tree', \\\r\n",
        "                'Crape myrtle, Crepe myrtle','oleander','yew plum pine','Japanese Flowering Cherry','Glossy Privet',\\\r\n",
        "                'Chinese Toon','peach','Ford Woodlotus','trident maple','Beales barberry','southern magnolia',\\\r\n",
        "                'Canadian poplar','Chinese tulip tree','tangerine'\r\n",
        "               ]\r\n",
        "print(len(common_names))               \r\n",
        "common_names[y_pred_mobile[0]]"
      ],
      "execution_count": null,
      "outputs": [
        {
          "output_type": "stream",
          "text": [
            "32\n"
          ],
          "name": "stdout"
        },
        {
          "output_type": "execute_result",
          "data": {
            "application/vnd.google.colaboratory.intrinsic+json": {
              "type": "string"
            },
            "text/plain": [
              "'Chinese horse chestnut'"
            ]
          },
          "metadata": {
            "tags": []
          },
          "execution_count": 34
        }
      ]
    }
  ]
}